{
  "metadata": {
    "kernelspec": {
      "display_name": "Python 3",
      "name": "python3"
    },
    "language_info": {
      "pygments_lexer": "ipython3",
      "nbconvert_exporter": "python",
      "version": "3.6.4",
      "file_extension": ".py",
      "codemirror_mode": {
        "name": "ipython",
        "version": 3
      },
      "name": "python",
      "mimetype": "text/x-python"
    },
    "kaggle": {
      "accelerator": "gpu",
      "dataSources": [
        {
          "sourceId": 2106,
          "sourceType": "datasetVersion",
          "datasetId": 1172
        }
      ],
      "isInternetEnabled": true,
      "language": "python",
      "sourceType": "notebook",
      "isGpuEnabled": true
    },
    "colab": {
      "name": "LUNG SEGMENTATION  DOWNSAMPLING TECHNIQUE",
      "provenance": [],
      "gpuType": "T4"
    },
    "accelerator": "GPU"
  },
  "nbformat_minor": 0,
  "nbformat": 4,
  "cells": [
    {
      "source": [
        "# IMPORTANT: RUN THIS CELL IN ORDER TO IMPORT YOUR KAGGLE DATA SOURCES\n",
        "# TO THE CORRECT LOCATION (/kaggle/input) IN YOUR NOTEBOOK,\n",
        "# THEN FEEL FREE TO DELETE THIS CELL.\n",
        "# NOTE: THIS NOTEBOOK ENVIRONMENT DIFFERS FROM KAGGLE'S PYTHON\n",
        "# ENVIRONMENT SO THERE MAY BE MISSING LIBRARIES USED BY YOUR\n",
        "# NOTEBOOK.\n",
        "\n",
        "import os\n",
        "import sys\n",
        "from tempfile import NamedTemporaryFile\n",
        "from urllib.request import urlopen\n",
        "from urllib.parse import unquote, urlparse\n",
        "from urllib.error import HTTPError\n",
        "from zipfile import ZipFile\n",
        "import tarfile\n",
        "import shutil\n",
        "\n",
        "CHUNK_SIZE = 40960\n",
        "DATA_SOURCE_MAPPING = 'finding-lungs-in-ct-data:https%3A%2F%2Fstorage.googleapis.com%2Fkaggle-data-sets%2F1172%2F2106%2Fbundle%2Farchive.zip%3FX-Goog-Algorithm%3DGOOG4-RSA-SHA256%26X-Goog-Credential%3Dgcp-kaggle-com%2540kaggle-161607.iam.gserviceaccount.com%252F20240328%252Fauto%252Fstorage%252Fgoog4_request%26X-Goog-Date%3D20240328T065852Z%26X-Goog-Expires%3D259200%26X-Goog-SignedHeaders%3Dhost%26X-Goog-Signature%3D4f41a84e40501900883a511e440ea79462ee37e8d1943ff3c9dd76a320a0aa5ddb1c36f9267e7949d7d89f34729d7a81b12bd8a71148cbd978dd40196f61a2c7538aff55ef3875fcc71ee96355a7054457733f75c495051fcb082910202e11dce541e84e022b93af05fa8f83cbdbd7aefeef8ab6da7be70c706f3aa870a20015d625bd03d17e8a68557d9481611c39f3c69c621b046abf6a389e92e352025cbd5a4bb1d58bf9e41eb09246bc40d68dd1c65fff41ce380775dee64eb2b4330d44e3228379eed4b8976364cb16daabfa999943b3cee02452560813879194e0e0fce039af03c707e924f742edccdf817943eb2ea8b0081ad87fd74ed14802fe56b9'\n",
        "\n",
        "KAGGLE_INPUT_PATH='/kaggle/input'\n",
        "KAGGLE_WORKING_PATH='/kaggle/working'\n",
        "KAGGLE_SYMLINK='kaggle'\n",
        "\n",
        "!umount /kaggle/input/ 2> /dev/null\n",
        "shutil.rmtree('/kaggle/input', ignore_errors=True)\n",
        "os.makedirs(KAGGLE_INPUT_PATH, 0o777, exist_ok=True)\n",
        "os.makedirs(KAGGLE_WORKING_PATH, 0o777, exist_ok=True)\n",
        "\n",
        "try:\n",
        "  os.symlink(KAGGLE_INPUT_PATH, os.path.join(\"..\", 'input'), target_is_directory=True)\n",
        "except FileExistsError:\n",
        "  pass\n",
        "try:\n",
        "  os.symlink(KAGGLE_WORKING_PATH, os.path.join(\"..\", 'working'), target_is_directory=True)\n",
        "except FileExistsError:\n",
        "  pass\n",
        "\n",
        "for data_source_mapping in DATA_SOURCE_MAPPING.split(','):\n",
        "    directory, download_url_encoded = data_source_mapping.split(':')\n",
        "    download_url = unquote(download_url_encoded)\n",
        "    filename = urlparse(download_url).path\n",
        "    destination_path = os.path.join(KAGGLE_INPUT_PATH, directory)\n",
        "    try:\n",
        "        with urlopen(download_url) as fileres, NamedTemporaryFile() as tfile:\n",
        "            total_length = fileres.headers['content-length']\n",
        "            print(f'Downloading {directory}, {total_length} bytes compressed')\n",
        "            dl = 0\n",
        "            data = fileres.read(CHUNK_SIZE)\n",
        "            while len(data) > 0:\n",
        "                dl += len(data)\n",
        "                tfile.write(data)\n",
        "                done = int(50 * dl / int(total_length))\n",
        "                sys.stdout.write(f\"\\r[{'=' * done}{' ' * (50-done)}] {dl} bytes downloaded\")\n",
        "                sys.stdout.flush()\n",
        "                data = fileres.read(CHUNK_SIZE)\n",
        "            if filename.endswith('.zip'):\n",
        "              with ZipFile(tfile) as zfile:\n",
        "                zfile.extractall(destination_path)\n",
        "            else:\n",
        "              with tarfile.open(tfile.name) as tarfile:\n",
        "                tarfile.extractall(destination_path)\n",
        "            print(f'\\nDownloaded and uncompressed: {directory}')\n",
        "    except HTTPError as e:\n",
        "        print(f'Failed to load (likely expired) {download_url} to path {destination_path}')\n",
        "        continue\n",
        "    except OSError as e:\n",
        "        print(f'Failed to load {download_url} to path {destination_path}')\n",
        "        continue\n",
        "\n",
        "print('Data source import complete.')\n"
      ],
      "metadata": {
        "id": "4jaiU5T82sMB"
      },
      "cell_type": "code",
      "outputs": [],
      "execution_count": null
    },
    {
      "cell_type": "code",
      "source": [
        "!pip install segmentation-models"
      ],
      "metadata": {
        "id": "4kYpy1wgzbOP"
      },
      "execution_count": null,
      "outputs": []
    },
    {
      "cell_type": "code",
      "source": [
        "import os\n",
        "import cv2\n",
        "import zipfile\n",
        "import numpy as np\n",
        "import pandas as pd\n",
        "\n",
        "import tensorflow as tf\n",
        "from tensorflow import keras\n",
        "from tensorflow.keras.utils import load_img, img_to_array\n",
        "\n",
        "from sklearn.model_selection import train_test_split\n",
        "\n",
        "os.environ[\"SM_FRAMEWORK\"] = \"tf.keras\"\n",
        "import segmentation_models as sm\n",
        "\n",
        "import matplotlib.pyplot as plt\n",
        "import seaborn as sns\n",
        "%matplotlib inline"
      ],
      "metadata": {
        "_uuid": "8f2839f25d086af736a60e9eeb907d3b93b6e0e5",
        "_cell_guid": "b1076dfc-b9ad-4769-8c92-a6c4dae69d19",
        "editable": false,
        "trusted": true,
        "id": "0BDvacYf2sMG"
      },
      "execution_count": null,
      "outputs": []
    },
    {
      "cell_type": "markdown",
      "source": [
        "## Extract Data"
      ],
      "metadata": {
        "id": "20dwjUM93QZ0"
      }
    },
    {
      "cell_type": "code",
      "source": [
        "def Extract_Data(filepath, name):\n",
        "  with zipfile.ZipFile(file=filepath) as file:\n",
        "    file.extractall(os.path.join(os.getcwd(), name))"
      ],
      "metadata": {
        "editable": false,
        "id": "T4hJymgr2sMH"
      },
      "execution_count": null,
      "outputs": []
    },
    {
      "cell_type": "code",
      "source": [
        "Extract_Data(\"/kaggle/input/finding-lungs-in-ct-data/2d_images.zip\", \"2d_images\")\n",
        "Extract_Data(\"/kaggle/input/finding-lungs-in-ct-data/2d_masks.zip\", \"2d_masks\")"
      ],
      "metadata": {
        "id": "Ey5bmOH13reO"
      },
      "execution_count": null,
      "outputs": []
    },
    {
      "cell_type": "code",
      "source": [
        "image_dir = \"/content/2d_images\"\n",
        "mask_dir = \"/content/2d_masks\""
      ],
      "metadata": {
        "id": "746NdN4c32rD"
      },
      "execution_count": null,
      "outputs": []
    },
    {
      "cell_type": "code",
      "source": [
        "image_reader = lambda x: np.expand_dims(cv2.imread(x, cv2.IMREAD_GRAYSCALE)[::2, ::2], axis=-1)"
      ],
      "metadata": {
        "id": "lVSBYup8jTUi"
      },
      "execution_count": null,
      "outputs": []
    },
    {
      "cell_type": "code",
      "source": [
        "image_path = [os.path.join(image_dir, i) for i in sorted(os.listdir(image_dir))]\n",
        "mask_path = [os.path.join(mask_dir, i) for i in sorted(os.listdir(mask_dir))]"
      ],
      "metadata": {
        "id": "JMgdLIvVj6su"
      },
      "execution_count": null,
      "outputs": []
    },
    {
      "cell_type": "markdown",
      "source": [
        "## EDA"
      ],
      "metadata": {
        "id": "j22coQO4pd7e"
      }
    },
    {
      "cell_type": "code",
      "source": [
        "fig, ax = plt.subplots(nrows=1, ncols=2)\n",
        "\n",
        "ax[0].imshow(image_reader(image_path[1]))\n",
        "ax[0].set_title(\"Image\")\n",
        "ax[0].axis(\"off\")\n",
        "\n",
        "ax[1].imshow(image_reader(mask_path[1]))\n",
        "ax[1].set_title(\"Mask\")\n",
        "ax[1].axis(\"off\")\n",
        "\n",
        "plt.show()"
      ],
      "metadata": {
        "id": "_mCrsiwNpBxs"
      },
      "execution_count": null,
      "outputs": []
    },
    {
      "cell_type": "code",
      "source": [
        "loaded_images = np.stack([image_reader(i) for i in image_path])/255\n",
        "loaded_masks = np.stack([image_reader(i) for i in mask_path])/255\n",
        "\n",
        "print(len(loaded_images))"
      ],
      "metadata": {
        "id": "F7oWChT-pZXt"
      },
      "execution_count": null,
      "outputs": []
    },
    {
      "cell_type": "markdown",
      "source": [
        "## SPLIT DATA"
      ],
      "metadata": {
        "id": "8yDkfVEEu6hF"
      }
    },
    {
      "cell_type": "code",
      "source": [
        "Xtrain, Xtest, ytrain, ytest = train_test_split(loaded_images, loaded_masks, test_size=.001)\n",
        "\n",
        "print(Xtrain.shape, Xtest.shape)"
      ],
      "metadata": {
        "id": "KpaOGNKssuha"
      },
      "execution_count": null,
      "outputs": []
    },
    {
      "cell_type": "code",
      "source": [
        "input_layer = keras.Input(shape=Xtrain.shape[1:], name=\"Input_Layer\")\n",
        "x = keras.layers.Conv2D(filters=32, kernel_size=(3, 3), strides=(1, 1), padding=\"same\", activation=\"relu\")(input_layer)\n",
        "x = keras.layers.Conv2D(filters=64, kernel_size=(3, 3), strides=(1, 1), padding=\"same\", activation=\"relu\")(x)\n",
        "x = keras.layers.Conv2D(filters=128, kernel_size=(3, 3), strides=(1, 1), padding=\"same\", activation=\"relu\")(x)\n",
        "x = keras.layers.MaxPooling2D(pool_size=(2, 2))(x)\n",
        "x = keras.layers.Dense(units=126, activation=\"relu\")(x)\n",
        "x = keras.layers.Conv2D(filters=1, kernel_size=(3, 3), strides=(1, 1), padding=\"same\", activation=\"relu\")(x)\n",
        "model_output = keras.layers.UpSampling2D(size=(2, 2))(x)\n",
        "\n",
        "model = keras.Model(inputs=input_layer, outputs=model_output)\n",
        "\n",
        "model.summary()"
      ],
      "metadata": {
        "id": "CouBQ4qXuhro"
      },
      "execution_count": null,
      "outputs": []
    },
    {
      "cell_type": "code",
      "source": [
        "model.compile(optimizer=keras.optimizers.RMSprop(learning_rate=1e-4), loss=\"binary_crossentropy\", metrics=[\"accuracy\"])"
      ],
      "metadata": {
        "id": "NgJzeWy0wRgE"
      },
      "execution_count": null,
      "outputs": []
    },
    {
      "cell_type": "code",
      "source": [
        "history = model.fit(Xtrain, ytrain,\n",
        "                    validation_split=.1,\n",
        "                    batch_size=32,\n",
        "                    epochs=20,\n",
        "                    callbacks=[keras.callbacks.EarlyStopping(patience=5, monitor=\"val_accuracy\"),\n",
        "                              keras.callbacks.ReduceLROnPlateau(monitor=\"val_accuracy\", min_lr=1e-5, patience=2)])"
      ],
      "metadata": {
        "id": "9ovO54x3zvL8"
      },
      "execution_count": null,
      "outputs": []
    },
    {
      "cell_type": "markdown",
      "source": [
        "## Trying a differen image reader"
      ],
      "metadata": {
        "id": "zSQLf80K4gmn"
      }
    },
    {
      "cell_type": "code",
      "source": [
        "image_reader_ = lambda x: img_to_array(load_img(x, color_mode=\"grayscale\"))[::2, ::2]"
      ],
      "metadata": {
        "id": "sQyC9P940UkX"
      },
      "execution_count": null,
      "outputs": []
    },
    {
      "cell_type": "code",
      "source": [
        "fig, ax = plt.subplots(nrows=1, ncols=2)\n",
        "\n",
        "ax[0].imshow(image_reader_(image_path[1]))\n",
        "ax[0].set_title(\"Image\")\n",
        "ax[0].axis(\"off\")\n",
        "\n",
        "ax[1].imshow(image_reader_(mask_path[1]))\n",
        "ax[1].set_title(\"Mask\")\n",
        "ax[1].axis(\"off\")\n",
        "\n",
        "plt.show()"
      ],
      "metadata": {
        "id": "4YqUnD4O5Auc"
      },
      "execution_count": null,
      "outputs": []
    },
    {
      "cell_type": "code",
      "source": [
        "loaded_images_ = np.stack([image_reader_(i) for i in image_path])/255\n",
        "loaded_masks_ = np.stack([image_reader_(i) for i in mask_path])/255\n",
        "\n",
        "print(len(loaded_images_))"
      ],
      "metadata": {
        "id": "ZEb4SIt15HQB"
      },
      "execution_count": null,
      "outputs": []
    },
    {
      "cell_type": "code",
      "source": [
        "Xtrain_, Xtest_, ytrain_, ytest_ = train_test_split(loaded_images_, loaded_masks_, test_size=.001)\n",
        "\n",
        "print(Xtrain_.shape, Xtest_.shape)"
      ],
      "metadata": {
        "id": "dQjdmop558yn"
      },
      "execution_count": null,
      "outputs": []
    },
    {
      "cell_type": "code",
      "source": [
        "model.compile(optimizer=keras.optimizers.RMSprop(learning_rate=1e-3), loss=\"binary_crossentropy\", metrics=[\"accuracy\"])"
      ],
      "metadata": {
        "id": "KtqJaUCp6yKM"
      },
      "execution_count": null,
      "outputs": []
    },
    {
      "cell_type": "code",
      "source": [
        "model.fit(Xtrain_, ytrain_,\n",
        "          validation_split=.1,\n",
        "          batch_size=32,\n",
        "          epochs=20,\n",
        "          callbacks=[keras.callbacks.EarlyStopping(patience=5, monitor=\"val_accuracy\"),\n",
        "                              keras.callbacks.ReduceLROnPlateau(monitor=\"val_accuracy\", min_lr=1e-5, patience=2)])"
      ],
      "metadata": {
        "id": "OhANwd0R6Hvm"
      },
      "execution_count": null,
      "outputs": []
    },
    {
      "cell_type": "code",
      "source": [
        "image_generator = keras.preprocessing.image.ImageDataGenerator(width_shift_range=0.1,\n",
        "                                                               height_shift_range=0.1,\n",
        "                                                               rotation_range=10,\n",
        "                                                               zoom_range=0.1)"
      ],
      "metadata": {
        "id": "XboXvgbg6O5B"
      },
      "execution_count": null,
      "outputs": []
    },
    {
      "cell_type": "code",
      "source": [
        "Xtrain_, Xtest_, ytrain_, ytest_ = train_test_split(loaded_images_, loaded_masks_, test_size=.2)\n",
        "\n",
        "print(Xtrain_.shape, Xtest_.shape)"
      ],
      "metadata": {
        "id": "KBfLnzSB-EZ8"
      },
      "execution_count": null,
      "outputs": []
    },
    {
      "cell_type": "code",
      "source": [
        "model.compile(optimizer=keras.optimizers.Adam(learning_rate=1e-4), loss=\"binary_crossentropy\", metrics=[\"accuracy\"])"
      ],
      "metadata": {
        "id": "AShCZZUL-d-y"
      },
      "execution_count": null,
      "outputs": []
    },
    {
      "cell_type": "code",
      "source": [
        "model.fit(image_generator.flow(Xtrain_, ytrain_),\n",
        "          validation_data=(image_generator.flow(Xtest_, ytest_)),\n",
        "          batch_size=32,\n",
        "          epochs=100,\n",
        "          callbacks=[keras.callbacks.EarlyStopping(patience=5, monitor=\"val_accuracy\"),\n",
        "                              keras.callbacks.ReduceLROnPlateau(monitor=\"val_accuracy\", min_lr=1e-5, patience=2)])"
      ],
      "metadata": {
        "id": "2XzbV2f99MwS"
      },
      "execution_count": null,
      "outputs": []
    },
    {
      "cell_type": "code",
      "source": [
        "Xtest_[0].shape"
      ],
      "metadata": {
        "id": "QCRdzrCz_8h-"
      },
      "execution_count": null,
      "outputs": []
    },
    {
      "cell_type": "code",
      "source": [
        "plt.imshow(model.predict(np.expand_dims(Xtest_[1], axis=0)).reshape(256, 256, 1))"
      ],
      "metadata": {
        "id": "tZPC5Z1N9TRt"
      },
      "execution_count": null,
      "outputs": []
    },
    {
      "cell_type": "code",
      "source": [
        "plt.imshow(Xtest_[1])"
      ],
      "metadata": {
        "id": "WflBMqKy_t79"
      },
      "execution_count": null,
      "outputs": []
    },
    {
      "cell_type": "code",
      "source": [],
      "metadata": {
        "id": "Y3i9BjiHAPqO"
      },
      "execution_count": null,
      "outputs": []
    }
  ]
}